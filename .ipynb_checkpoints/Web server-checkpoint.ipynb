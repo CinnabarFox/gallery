{
 "cells": [
  {
   "cell_type": "code",
   "execution_count": null,
   "metadata": {},
   "outputs": [
    {
     "name": "stdout",
     "output_type": "stream",
     "text": [
      "serving at port 8001\n"
     ]
    },
    {
     "name": "stderr",
     "output_type": "stream",
     "text": [
      "127.0.0.1 - - [14/Nov/2021 11:32:07] \"GET / HTTP/1.1\" 200 -\n",
      "127.0.0.1 - - [14/Nov/2021 11:32:07] \"GET /images/oct.png HTTP/1.1\" 200 -\n",
      "127.0.0.1 - - [14/Nov/2021 11:32:08] \"GET /models/Frames/10305_picture_frame_v2_L3.123ccb6bd6b4-0f6a-44a4-84c0-0b1b1626ff22/10305_picture_frame_V2_max2011_it2.obj HTTP/1.1\" 200 -\n",
      "127.0.0.1 - - [14/Nov/2021 11:32:08] code 404, message File not found\n",
      "127.0.0.1 - - [14/Nov/2021 11:32:08] \"GET /favicon.ico HTTP/1.1\" 404 -\n",
      "127.0.0.1 - - [14/Nov/2021 11:32:08] \"GET /models/Frames/10305_picture_frame_v2_L3.123ccb6bd6b4-0f6a-44a4-84c0-0b1b1626ff22/10305_picture_frame_V1_Diffuse.jpg HTTP/1.1\" 200 -\n",
      "127.0.0.1 - - [14/Nov/2021 11:32:23] \"GET / HTTP/1.1\" 200 -\n",
      "127.0.0.1 - - [14/Nov/2021 11:32:23] code 404, message File not found\n",
      "127.0.0.1 - - [14/Nov/2021 11:32:23] \"GET /home/c1/Desktop/Gallery/models/door%20frame%20v0-0.obj HTTP/1.1\" 404 -\n",
      "127.0.0.1 - - [14/Nov/2021 11:32:23] code 404, message File not found\n",
      "127.0.0.1 - - [14/Nov/2021 11:32:23] \"GET /home/c1/Desktop/Gallery/models/door%20frame%20v0-0.mtl HTTP/1.1\" 404 -\n",
      "127.0.0.1 - - [14/Nov/2021 11:33:40] \"GET / HTTP/1.1\" 200 -\n",
      "127.0.0.1 - - [14/Nov/2021 11:33:40] code 404, message File not found\n",
      "127.0.0.1 - - [14/Nov/2021 11:33:40] \"GET /home/c1/Desktop/Gallery/models/door%20frame%20v0-0.obj HTTP/1.1\" 404 -\n",
      "127.0.0.1 - - [14/Nov/2021 11:33:40] code 404, message File not found\n",
      "127.0.0.1 - - [14/Nov/2021 11:33:40] \"GET /home/c1/Desktop/Gallery/models/door%20frame%20v0-0.mtl HTTP/1.1\" 404 -\n"
     ]
    }
   ],
   "source": [
    "# Python web server\n",
    "\n",
    "import http.server\n",
    "import socketserver\n",
    "\n",
    "PORT = 8001\n",
    "\n",
    "\n",
    "Handler = http.server.SimpleHTTPRequestHandler\n",
    "\n",
    "with socketserver.TCPServer((\"\", PORT), Handler) as httpd:\n",
    "    print(\"serving at port\", PORT)\n",
    "    httpd.serve_forever()"
   ]
  },
  {
   "cell_type": "code",
   "execution_count": null,
   "metadata": {},
   "outputs": [],
   "source": [
    "python -m http.server 8000"
   ]
  }
 ],
 "metadata": {
  "kernelspec": {
   "display_name": "Python 3",
   "language": "python",
   "name": "python3"
  },
  "language_info": {
   "codemirror_mode": {
    "name": "ipython",
    "version": 3
   },
   "file_extension": ".py",
   "mimetype": "text/x-python",
   "name": "python",
   "nbconvert_exporter": "python",
   "pygments_lexer": "ipython3",
   "version": "3.9.5"
  }
 },
 "nbformat": 4,
 "nbformat_minor": 2
}
